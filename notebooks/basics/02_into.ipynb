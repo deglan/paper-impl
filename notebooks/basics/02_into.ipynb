{
 "cells": [
  {
   "cell_type": "code",
   "execution_count": 7,
   "metadata": {},
   "outputs": [],
   "source": [
    "import torch\n",
    "\n",
    "# Ustawiamy losowość do powtarzalności wyników\n",
    "torch.manual_seed(0)\n",
    "\n",
    "# Wektor 100 liczb z przedziału [0, 1)\n",
    "x = torch.rand(100, 1)\n",
    "# Wartości y zgodne z równaniem + trochę szumu\n",
    "y = 2 * x + 3 + 0.1 * torch.randn(100, 1)\n",
    "\n"
   ]
  },
  {
   "cell_type": "code",
   "execution_count": 8,
   "metadata": {},
   "outputs": [],
   "source": [
    "# Wagi i bias dla 1. warstwy: 1 -> 10\n",
    "W1 = torch.randn(1, 10, requires_grad=True)\n",
    "b1 = torch.zeros(10, requires_grad=True)\n",
    "\n",
    "# Wagi i bias dla 2. warstwy: 10 -> 1\n",
    "W2 = torch.randn(10, 1, requires_grad=True)\n",
    "b2 = torch.zeros(1, requires_grad=True)"
   ]
  },
  {
   "cell_type": "code",
   "execution_count": 10,
   "metadata": {},
   "outputs": [
    {
     "name": "stdout",
     "output_type": "stream",
     "text": [
      "Epoch 0, Loss: 15.6322\n",
      "Epoch 100, Loss: 0.0080\n",
      "Epoch 200, Loss: 0.0079\n",
      "Epoch 300, Loss: 0.0079\n",
      "Epoch 400, Loss: 0.0079\n",
      "Epoch 500, Loss: 0.0079\n",
      "Epoch 600, Loss: 0.0079\n",
      "Epoch 700, Loss: 0.0079\n",
      "Epoch 800, Loss: 0.0079\n",
      "Epoch 900, Loss: 0.0079\n"
     ]
    }
   ],
   "source": [
    "learning_rate = 1e-1  # czyli 0.1\n",
    "\n",
    "for epoch in range(1000):\n",
    "    # Forward\n",
    "    h = x @ W1 + b1\n",
    "    h_relu = torch.relu(h)\n",
    "    y_pred = h_relu @ W2 + b2\n",
    "\n",
    "    # Loss\n",
    "    loss = ((y_pred - y) ** 2).mean()\n",
    "\n",
    "    # Backward\n",
    "    loss.backward()\n",
    "\n",
    "    # Update\n",
    "    with torch.no_grad():\n",
    "        W1 -= learning_rate * W1.grad\n",
    "        b1 -= learning_rate * b1.grad\n",
    "        W2 -= learning_rate * W2.grad\n",
    "        b2 -= learning_rate * b2.grad\n",
    "\n",
    "        W1.grad.zero_()\n",
    "        b1.grad.zero_()\n",
    "        W2.grad.zero_()\n",
    "        b2.grad.zero_()\n",
    "\n",
    "    # Wyświetlamy co 100 epok\n",
    "    if epoch % 100 == 0:\n",
    "        print(f'Epoch {epoch}, Loss: {loss.item():.4f}')\n"
   ]
  }
 ],
 "metadata": {
  "kernelspec": {
   "display_name": "venv",
   "language": "python",
   "name": "python3"
  },
  "language_info": {
   "codemirror_mode": {
    "name": "ipython",
    "version": 3
   },
   "file_extension": ".py",
   "mimetype": "text/x-python",
   "name": "python",
   "nbconvert_exporter": "python",
   "pygments_lexer": "ipython3",
   "version": "3.12.3"
  }
 },
 "nbformat": 4,
 "nbformat_minor": 2
}
