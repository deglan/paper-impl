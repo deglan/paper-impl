{
 "cells": [
  {
   "cell_type": "code",
   "execution_count": 1,
   "metadata": {},
   "outputs": [],
   "source": [
    "# import matplotlib.pyplot as plt\n",
    "from torchvision import datasets, transforms\n",
    "\n",
    "# Transformacja do tensora\n",
    "transform = transforms.ToTensor()\n",
    "\n",
    "# Załaduj dane treningowe MNIST\n",
    "train_data = datasets.MNIST(root=\".\", train=True, download=True, transform=transform)\n",
    "\n",
    "# Pokażmy pierwsze 6 obrazków\n",
    "# fig, axes = plt.subplots(1, 6, figsize=(12, 2))\n",
    "# for i in range(6):\n",
    "#     image, label = train_data[i]\n",
    "#     axes[i].imshow(image.squeeze(), cmap=\"gray\")\n",
    "#     axes[i].set_title(f\"Label: {label}\")\n",
    "#     axes[i].axis(\"off\")\n",
    "# plt.show()\n",
    "\n"
   ]
  },
  {
   "cell_type": "code",
   "execution_count": 2,
   "metadata": {},
   "outputs": [],
   "source": [
    "from torch.utils.data import DataLoader\n",
    "\n",
    "# Ustawiamy rozmiar batcha (np. 64 obrazki na raz)\n",
    "batch_size = 64\n",
    "\n",
    "# Tworzymy DataLoader dla danych treningowych i testowych\n",
    "train_loader = DataLoader(train_data, batch_size=batch_size, shuffle=True)"
   ]
  },
  {
   "cell_type": "code",
   "execution_count": 3,
   "metadata": {},
   "outputs": [],
   "source": [
    "from torch import nn\n",
    "class NumberClassifier(nn.Module):\n",
    "    def __init__(self):\n",
    "        super().__init__()\n",
    "        self.fc1 = nn.Flatten()\n",
    "        self.fc2 = nn.Linear(784,128)\n",
    "        self.act1 = nn.ReLU()\n",
    "        self.fc3 = nn.Linear(128, 64)\n",
    "        self.act2 = nn.ReLU()\n",
    "        self.out = nn.Linear(64, 10)\n",
    "\n",
    "    def forward(self, x):\n",
    "        x = self.fc1(x)  \n",
    "        x = self.fc2(x)   \n",
    "        x = self.act1(x) \n",
    "        x = self.fc3(x)            \n",
    "        x = self.act2(x)     \n",
    "        x = self.out(x)\n",
    "        return x"
   ]
  },
  {
   "cell_type": "code",
   "execution_count": 4,
   "metadata": {},
   "outputs": [],
   "source": [
    "import torch\n",
    "\n",
    "\n",
    "model = NumberClassifier()\n",
    "loss_fn = nn.CrossEntropyLoss() \n",
    "optimizer = torch.optim.Adam(model.parameters())"
   ]
  },
  {
   "cell_type": "code",
   "execution_count": null,
   "metadata": {},
   "outputs": [
    {
     "name": "stdout",
     "output_type": "stream",
     "text": [
      "Epoch 0, avg loss: 0.3528\n",
      "Epoch 0 loss: 330.94749922305346\n",
      "Epoch 0, accuracy: 0.9003\n",
      "Epoch 1, avg loss: 0.1508\n",
      "Epoch 1 loss: 141.4772199690342\n",
      "Epoch 1, accuracy: 0.9553\n",
      "Epoch 2, avg loss: 0.1003\n",
      "Epoch 2 loss: 94.12325958441943\n",
      "Epoch 2, accuracy: 0.9688\n",
      "Epoch 3, avg loss: 0.0743\n",
      "Epoch 3 loss: 69.67143588745967\n",
      "Epoch 3, accuracy: 0.9774\n",
      "Epoch 4, avg loss: 0.0577\n",
      "Epoch 4 loss: 54.13346407213248\n",
      "Epoch 4, accuracy: 0.9818\n",
      "Epoch 5, avg loss: 0.0463\n",
      "Epoch 5 loss: 43.445146571844816\n",
      "Epoch 5, accuracy: 0.9852\n",
      "Epoch 6, avg loss: 0.0376\n",
      "Epoch 6 loss: 35.226860704948194\n",
      "Epoch 6, accuracy: 0.9882\n",
      "Epoch 7, avg loss: 0.0298\n",
      "Epoch 7 loss: 27.979370005603414\n",
      "Epoch 7, accuracy: 0.9903\n",
      "Epoch 8, avg loss: 0.0242\n",
      "Epoch 8 loss: 22.68619116768241\n",
      "Epoch 8, accuracy: 0.9917\n",
      "Epoch 9, avg loss: 0.0239\n",
      "Epoch 9 loss: 22.425249871303095\n",
      "Epoch 9, accuracy: 0.9918\n"
     ]
    }
   ],
   "source": [
    "for epoch in range(10):\n",
    "    total_loss = 0\n",
    "    correct = 0\n",
    "    total = 0\n",
    "    for batch in train_loader:\n",
    "        images, labels = batch\n",
    "        pred = model(images)\n",
    "        loss = loss_fn(pred, labels)\n",
    "        optimizer.zero_grad()\n",
    "        loss.backward()\n",
    "        optimizer.step()\n",
    "        total_loss += loss.item()\n",
    "        predicted = torch.argmax(pred, dim=1)\n",
    "        correct += (predicted == labels).sum().item()\n",
    "        total += labels.size(0)\n",
    "    avg_loss = total_loss / len(train_loader)\n",
    "    print(f\"Epoch {epoch}, avg loss: {avg_loss:.4f}\")\n",
    "    accuracy = correct / total\n",
    "    print(f\"Epoch {epoch}, accuracy: {accuracy:.4f}\")"
   ]
  }
 ],
 "metadata": {
  "kernelspec": {
   "display_name": "venv",
   "language": "python",
   "name": "python3"
  },
  "language_info": {
   "codemirror_mode": {
    "name": "ipython",
    "version": 3
   },
   "file_extension": ".py",
   "mimetype": "text/x-python",
   "name": "python",
   "nbconvert_exporter": "python",
   "pygments_lexer": "ipython3",
   "version": "3.12.3"
  }
 },
 "nbformat": 4,
 "nbformat_minor": 2
}
